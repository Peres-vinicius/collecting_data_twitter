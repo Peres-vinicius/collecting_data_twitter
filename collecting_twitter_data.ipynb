{
  "nbformat": 4,
  "nbformat_minor": 0,
  "metadata": {
    "colab": {
      "name": "collecting_twitter_data.ipynb",
      "provenance": [],
      "collapsed_sections": [],
      "authorship_tag": "ABX9TyM7K1qPiNTmY22oUttMnGMF",
      "include_colab_link": true
    },
    "kernelspec": {
      "name": "python3",
      "display_name": "Python 3"
    },
    "language_info": {
      "name": "python"
    }
  },
  "cells": [
    {
      "cell_type": "markdown",
      "metadata": {
        "id": "view-in-github",
        "colab_type": "text"
      },
      "source": [
        "<a href=\"https://colab.research.google.com/github/Peres-vinicius/collecting_data_twitter/blob/main/collecting_twitter_data.ipynb\" target=\"_parent\"><img src=\"https://colab.research.google.com/assets/colab-badge.svg\" alt=\"Open In Colab\"/></a>"
      ]
    },
    {
      "cell_type": "code",
      "execution_count": null,
      "metadata": {
        "id": "9XRCRqMx634p"
      },
      "outputs": [],
      "source": [
        "!pip install tweepy==4.6"
      ]
    },
    {
      "cell_type": "markdown",
      "source": [
        "## IMPORTS"
      ],
      "metadata": {
        "id": "rI7yUxaY8Mvh"
      }
    },
    {
      "cell_type": "code",
      "source": [
        "import tweepy as tw\n",
        "import time as tm\n",
        "import sqlite3\n",
        "import pandas as pd\n",
        "from datetime import datetime, timedelta"
      ],
      "metadata": {
        "id": "Cb4_yIrY8KoP"
      },
      "execution_count": 1,
      "outputs": []
    },
    {
      "cell_type": "markdown",
      "source": [
        "## FUNCTIONS"
      ],
      "metadata": {
        "id": "ObUDQC508RS5"
      }
    },
    {
      "cell_type": "code",
      "source": [
        "def create_db(name):\n",
        "    # cria o bd, a table registros e retorna o con e o cur\n",
        "    name = name + '.db'\n",
        "    con = sqlite3.connect(name)\n",
        "    cur = con.cursor()\n",
        "    cur.execute('CREATE TABLE registros (texto TEXT)')\n",
        "    return con, cur"
      ],
      "metadata": {
        "id": "6ygE-xNH8P9e"
      },
      "execution_count": 2,
      "outputs": []
    },
    {
      "cell_type": "code",
      "source": [
        "def connect_twitter(BEARER_TOKEN, CONSUMER_KEY, CONSUMER_SECRET, ACCESS_TOKEN, ACCESS_TOKEN_SECRET):\n",
        "    # conectando ao twitter\n",
        "    return tw.Client(BEARER_TOKEN, CONSUMER_KEY, CONSUMER_SECRET, ACCESS_TOKEN, ACCESS_TOKEN_SECRET)\n",
        "    "
      ],
      "metadata": {
        "id": "ltBvKYhH8Us-"
      },
      "execution_count": 3,
      "outputs": []
    },
    {
      "cell_type": "code",
      "source": [
        "def extracting_data(client_twitter, query, start_time, end_minutes_time):\n",
        "    \"\"\"\n",
        "    client_twitter : obj retornado da função connect_twitter\n",
        "    query : termo para busca\n",
        "    start_time : obj do tipo datetime\n",
        "    end_time : int com minutos\n",
        "    \"\"\"\n",
        "    result = []\n",
        "    minutes = 1\n",
        "    while minutes <= end_minutes_time:\n",
        "        end_time = start_time + timedelta(days = 0, minutes = minutes)\n",
        "        print(end_time)\n",
        "        res = client_twitter.search_recent_tweets(query=query, max_results=100, start_time=start_time, end_time=end_time)\n",
        "        res = res.data\n",
        "        result.append(res)\n",
        "        tm.sleep(5)\n",
        "        minutes +=1\n",
        "    return result"
      ],
      "metadata": {
        "id": "s52voXr18Wxg"
      },
      "execution_count": 4,
      "outputs": []
    },
    {
      "cell_type": "code",
      "source": [
        "def insert_db(cur, con, data):\n",
        "    for i in data:\n",
        "        for x in i:\n",
        "            cur.execute(\"INSERT INTO registros (texto) VALUES (?);\", (x.text,))\n",
        "        \n",
        "    con.commit()\n",
        "    con.close()"
      ],
      "metadata": {
        "id": "oHpYxRCu8YiM"
      },
      "execution_count": 5,
      "outputs": []
    },
    {
      "cell_type": "code",
      "source": [
        "def read_data(name_db):\n",
        "    # conectando ao banco sqlite\n",
        "    db = name_db + '.db'\n",
        "    con = sqlite3.connect(db)\n",
        "    cur = con.cursor()\n",
        "    # busca todos os registros\n",
        "    cur.execute('SELECT * FROM registros')\n",
        "    res = cur.fetchall()\n",
        "    con.close()\n",
        "    #adiciona a um df\n",
        "    res = pd.DataFrame(res)\n",
        "    res.columns = ['Text']\n",
        "    return res"
      ],
      "metadata": {
        "id": "mZ047tEZ8aN2"
      },
      "execution_count": 6,
      "outputs": []
    },
    {
      "cell_type": "markdown",
      "source": [
        "## TESTING"
      ],
      "metadata": {
        "id": "0vVoQ8XU8gST"
      }
    },
    {
      "cell_type": "code",
      "source": [
        "CONSUMER_KEY = ''\n",
        "CONSUMER_SECRET = ''\n",
        "BEARER_TOKEN = ''\n",
        "ACCESS_TOKEN = ''\n",
        "ACCESS_TOKEN_SECRET = ''"
      ],
      "metadata": {
        "id": "1rI1mYSs8e10"
      },
      "execution_count": 7,
      "outputs": []
    },
    {
      "cell_type": "code",
      "source": [
        "# criando conexão a api do twitter\n",
        "client = connect_twitter(BEARER_TOKEN, CONSUMER_KEY, CONSUMER_SECRET, ACCESS_TOKEN, ACCESS_TOKEN_SECRET)"
      ],
      "metadata": {
        "id": "drcgXntL8jPY"
      },
      "execution_count": 8,
      "outputs": []
    },
    {
      "cell_type": "code",
      "source": [
        "# criando BD para adicionar os dados\n",
        "con, cur = create_db('db_test')"
      ],
      "metadata": {
        "id": "MdmLE6dW8k-x"
      },
      "execution_count": 9,
      "outputs": []
    },
    {
      "cell_type": "code",
      "source": [
        "star = datetime(year=2022, month=2, day=26, hour=12, minute=15, second=0)\n",
        "end_minutes_time = 3\n",
        "query = 'sentimento'\n",
        "aux = extracting_data(client_twitter=client, query=query, start_time=star, end_minutes_time=end_minutes_time)"
      ],
      "metadata": {
        "colab": {
          "base_uri": "https://localhost:8080/"
        },
        "id": "y5iCOIvE-ygI",
        "outputId": "201151aa-3d29-4c8d-8ef3-32d86e28618d"
      },
      "execution_count": 10,
      "outputs": [
        {
          "output_type": "stream",
          "name": "stdout",
          "text": [
            "2022-02-26 12:16:00\n",
            "2022-02-26 12:17:00\n",
            "2022-02-26 12:18:00\n"
          ]
        }
      ]
    },
    {
      "cell_type": "code",
      "source": [
        "aux[0]"
      ],
      "metadata": {
        "colab": {
          "base_uri": "https://localhost:8080/"
        },
        "id": "erAdPwum-1J0",
        "outputId": "f059a46c-dfce-4404-ade2-27ff67984999"
      },
      "execution_count": 11,
      "outputs": [
        {
          "output_type": "execute_result",
          "data": {
            "text/plain": [
              "[<Tweet id=1497545926075994113 text=\"I patriottici diranno che è bellissimo sentire un presidente incitare alla guerra la popolazione civile, ma secondo me non è bello, e secondo me è una sconfitta globale e di tutti. È lo stesso sentimento con cui l'america da 50 anni costringe all'embargo Cuba,\">,\n",
              " <Tweet id=1497545867015823362 text='RT @yasreis: não finjo sentimento  oq demonstro eu realmente sinto'>,\n",
              " <Tweet id=1497545860267360261 text='RT @Glucio03: Sentimento tão puro como este não há mm'>,\n",
              " <Tweet id=1497545818651475971 text='que sentimento ruim sério...'>]"
            ]
          },
          "metadata": {},
          "execution_count": 11
        }
      ]
    },
    {
      "cell_type": "code",
      "source": [
        "insert_db(cur, con, aux)"
      ],
      "metadata": {
        "id": "6VeNjAEk-3kj"
      },
      "execution_count": 12,
      "outputs": []
    },
    {
      "cell_type": "code",
      "source": [
        "df = read_data('db_test')\n",
        "df.head()"
      ],
      "metadata": {
        "colab": {
          "base_uri": "https://localhost:8080/",
          "height": 206
        },
        "id": "7je20EER-42P",
        "outputId": "8b0fcccf-e07b-4cf6-f2b6-1469b72226ae"
      },
      "execution_count": 13,
      "outputs": [
        {
          "output_type": "execute_result",
          "data": {
            "text/html": [
              "\n",
              "  <div id=\"df-203a167c-c8d9-43f5-a06c-073d882621ce\">\n",
              "    <div class=\"colab-df-container\">\n",
              "      <div>\n",
              "<style scoped>\n",
              "    .dataframe tbody tr th:only-of-type {\n",
              "        vertical-align: middle;\n",
              "    }\n",
              "\n",
              "    .dataframe tbody tr th {\n",
              "        vertical-align: top;\n",
              "    }\n",
              "\n",
              "    .dataframe thead th {\n",
              "        text-align: right;\n",
              "    }\n",
              "</style>\n",
              "<table border=\"1\" class=\"dataframe\">\n",
              "  <thead>\n",
              "    <tr style=\"text-align: right;\">\n",
              "      <th></th>\n",
              "      <th>Text</th>\n",
              "    </tr>\n",
              "  </thead>\n",
              "  <tbody>\n",
              "    <tr>\n",
              "      <th>0</th>\n",
              "      <td>I patriottici diranno che è bellissimo sentire...</td>\n",
              "    </tr>\n",
              "    <tr>\n",
              "      <th>1</th>\n",
              "      <td>RT @yasreis: não finjo sentimento  oq demonstr...</td>\n",
              "    </tr>\n",
              "    <tr>\n",
              "      <th>2</th>\n",
              "      <td>RT @Glucio03: Sentimento tão puro como este nã...</td>\n",
              "    </tr>\n",
              "    <tr>\n",
              "      <th>3</th>\n",
              "      <td>que sentimento ruim sério...</td>\n",
              "    </tr>\n",
              "    <tr>\n",
              "      <th>4</th>\n",
              "      <td>RT @yasreis: não finjo sentimento  oq demonstr...</td>\n",
              "    </tr>\n",
              "  </tbody>\n",
              "</table>\n",
              "</div>\n",
              "      <button class=\"colab-df-convert\" onclick=\"convertToInteractive('df-203a167c-c8d9-43f5-a06c-073d882621ce')\"\n",
              "              title=\"Convert this dataframe to an interactive table.\"\n",
              "              style=\"display:none;\">\n",
              "        \n",
              "  <svg xmlns=\"http://www.w3.org/2000/svg\" height=\"24px\"viewBox=\"0 0 24 24\"\n",
              "       width=\"24px\">\n",
              "    <path d=\"M0 0h24v24H0V0z\" fill=\"none\"/>\n",
              "    <path d=\"M18.56 5.44l.94 2.06.94-2.06 2.06-.94-2.06-.94-.94-2.06-.94 2.06-2.06.94zm-11 1L8.5 8.5l.94-2.06 2.06-.94-2.06-.94L8.5 2.5l-.94 2.06-2.06.94zm10 10l.94 2.06.94-2.06 2.06-.94-2.06-.94-.94-2.06-.94 2.06-2.06.94z\"/><path d=\"M17.41 7.96l-1.37-1.37c-.4-.4-.92-.59-1.43-.59-.52 0-1.04.2-1.43.59L10.3 9.45l-7.72 7.72c-.78.78-.78 2.05 0 2.83L4 21.41c.39.39.9.59 1.41.59.51 0 1.02-.2 1.41-.59l7.78-7.78 2.81-2.81c.8-.78.8-2.07 0-2.86zM5.41 20L4 18.59l7.72-7.72 1.47 1.35L5.41 20z\"/>\n",
              "  </svg>\n",
              "      </button>\n",
              "      \n",
              "  <style>\n",
              "    .colab-df-container {\n",
              "      display:flex;\n",
              "      flex-wrap:wrap;\n",
              "      gap: 12px;\n",
              "    }\n",
              "\n",
              "    .colab-df-convert {\n",
              "      background-color: #E8F0FE;\n",
              "      border: none;\n",
              "      border-radius: 50%;\n",
              "      cursor: pointer;\n",
              "      display: none;\n",
              "      fill: #1967D2;\n",
              "      height: 32px;\n",
              "      padding: 0 0 0 0;\n",
              "      width: 32px;\n",
              "    }\n",
              "\n",
              "    .colab-df-convert:hover {\n",
              "      background-color: #E2EBFA;\n",
              "      box-shadow: 0px 1px 2px rgba(60, 64, 67, 0.3), 0px 1px 3px 1px rgba(60, 64, 67, 0.15);\n",
              "      fill: #174EA6;\n",
              "    }\n",
              "\n",
              "    [theme=dark] .colab-df-convert {\n",
              "      background-color: #3B4455;\n",
              "      fill: #D2E3FC;\n",
              "    }\n",
              "\n",
              "    [theme=dark] .colab-df-convert:hover {\n",
              "      background-color: #434B5C;\n",
              "      box-shadow: 0px 1px 3px 1px rgba(0, 0, 0, 0.15);\n",
              "      filter: drop-shadow(0px 1px 2px rgba(0, 0, 0, 0.3));\n",
              "      fill: #FFFFFF;\n",
              "    }\n",
              "  </style>\n",
              "\n",
              "      <script>\n",
              "        const buttonEl =\n",
              "          document.querySelector('#df-203a167c-c8d9-43f5-a06c-073d882621ce button.colab-df-convert');\n",
              "        buttonEl.style.display =\n",
              "          google.colab.kernel.accessAllowed ? 'block' : 'none';\n",
              "\n",
              "        async function convertToInteractive(key) {\n",
              "          const element = document.querySelector('#df-203a167c-c8d9-43f5-a06c-073d882621ce');\n",
              "          const dataTable =\n",
              "            await google.colab.kernel.invokeFunction('convertToInteractive',\n",
              "                                                     [key], {});\n",
              "          if (!dataTable) return;\n",
              "\n",
              "          const docLinkHtml = 'Like what you see? Visit the ' +\n",
              "            '<a target=\"_blank\" href=https://colab.research.google.com/notebooks/data_table.ipynb>data table notebook</a>'\n",
              "            + ' to learn more about interactive tables.';\n",
              "          element.innerHTML = '';\n",
              "          dataTable['output_type'] = 'display_data';\n",
              "          await google.colab.output.renderOutput(dataTable, element);\n",
              "          const docLink = document.createElement('div');\n",
              "          docLink.innerHTML = docLinkHtml;\n",
              "          element.appendChild(docLink);\n",
              "        }\n",
              "      </script>\n",
              "    </div>\n",
              "  </div>\n",
              "  "
            ],
            "text/plain": [
              "                                                Text\n",
              "0  I patriottici diranno che è bellissimo sentire...\n",
              "1  RT @yasreis: não finjo sentimento  oq demonstr...\n",
              "2  RT @Glucio03: Sentimento tão puro como este nã...\n",
              "3                       que sentimento ruim sério...\n",
              "4  RT @yasreis: não finjo sentimento  oq demonstr..."
            ]
          },
          "metadata": {},
          "execution_count": 13
        }
      ]
    },
    {
      "cell_type": "code",
      "source": [
        ""
      ],
      "metadata": {
        "id": "KLs-jTOx-6P7"
      },
      "execution_count": null,
      "outputs": []
    }
  ]
}